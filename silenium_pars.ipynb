{
 "cells": [
  {
   "cell_type": "code",
   "execution_count": 162,
   "id": "25a1f932",
   "metadata": {},
   "outputs": [],
   "source": [
    "from selenium import webdriver\n",
    "from selenium.webdriver.chrome.service import Service as ChromeService\n",
    "from webdriver_manager.chrome import ChromeDriverManager\n",
    "from selenium.webdriver.common.action_chains import ActionChains\n",
    "from selenium.webdriver.common.by import By\n",
    "from selenium.common.exceptions import NoSuchElementException, TimeoutException\n",
    "from selenium.webdriver.support.ui import WebDriverWait\n",
    "from selenium.webdriver.support import expected_conditions as EC\n",
    "import time\n",
    "from bs4 import BeautifulSoup as bs\n",
    "import pandas as pd\n",
    "\n",
    "options = Options()\n",
    "options.add_experimental_option(\n",
    "    'prefs', \n",
    "    {\n",
    "#         'profile.managed_default_content_settings.javascript': 2,\n",
    "        'profile.managed_default_content_settings.images': 2,\n",
    "        'profile.managed_default_content_settings.mixed_script': 2,\n",
    "        'profile.managed_default_content_settings.media_stream': 2,\n",
    "        'profile.managed_default_content_settings.stylesheets':2\n",
    "    }\n",
    ")\n",
    "\n",
    "from selenium.webdriver.support.ui import WebDriverWait\n",
    "from selenium.webdriver.support import expected_conditions as EC"
   ]
  },
  {
   "cell_type": "code",
   "execution_count": 190,
   "id": "f68e39f4",
   "metadata": {},
   "outputs": [],
   "source": [
    "df = pd.read_excel(\"URLs.xlsx\")\n",
    "driver = webdriver.Chrome(service=ChromeService(ChromeDriverManager().install()), options=options)"
   ]
  },
  {
   "cell_type": "code",
   "execution_count": 191,
   "id": "433bf1a8",
   "metadata": {},
   "outputs": [
    {
     "name": "stdout",
     "output_type": "stream",
     "text": [
      "Сертификат 78/АА-004/029-1/2022. По данным из Федерального перечня туристских объектов.\n",
      "Сертификат 77/АА47/160-2022. По данным из Федерального перечня туристских объектов.\n",
      "Сертификат 78/АА-034/733-2022. По данным из Федерального перечня туристских объектов.\n",
      "Сертификат АА-022/307-2021. По данным из Федерального перечня туристских объектов.\n",
      "Сертификат 78/АА-97/316-2022. По данным из Федерального перечня туристских объектов.\n",
      "Сертификат 78/АА-034/594-2021. По данным из Федерального перечня туристских объектов.\n"
     ]
    }
   ],
   "source": [
    "for x in df['URL']:  \n",
    "    driver.get(x + '?q=413&dates=09.03.2024-10.03.2024&guests=2')\n",
    "    \n",
    "    hover_element = driver.find_element(\n",
    "        By.XPATH, \"//*[@id=':0']/div/div[2]/div[1]/div[1]/div/div[1]/div[1]/div/div[1]/div[2]/div[1]/div[3]/div\")\n",
    "    \n",
    "    # Наводим на него\n",
    "    ActionChains(driver).move_to_element(hover_element).perform()\n",
    "    html = driver.page_source\n",
    "    \n",
    "    n = 0\n",
    "    while not('zentexttip-text' in html) or n > 500:\n",
    "        ActionChains(driver).move_to_element(hover_element).perform()\n",
    "        html = driver.page_source\n",
    "        n += 1\n",
    "        \n",
    "    \n",
    "    soup = bs(html, 'html.parser')\n",
    "    sert = soup.find(\"div\", {'class': 'zentexttip-text'})\n",
    "\n",
    "    print(sert.text)"
   ]
  },
  {
   "cell_type": "code",
   "execution_count": 79,
   "id": "14fd2bd3",
   "metadata": {},
   "outputs": [],
   "source": [
    "def Sertificate(url):\n",
    "    try:\n",
    "        driver = webdriver.Chrome(service=ChromeService(ChromeDriverManager().install()))\n",
    "        driver.get(url)\n",
    "       \n",
    "        # Close the date search window (if it pops up)\n",
    "        try:\n",
    "            element = driver.find_element(By.CLASS_NAME, \"Button_content__1ypi3\")\n",
    "            element.click()\n",
    "        except NoSuchElementException:\n",
    "            pass\n",
    "\n",
    "       \n",
    "       # Wait for the hover element to be clickable with an increased timeout\n",
    "        try:\n",
    "            hover_element = WebDriverWait(driver, 5).until(EC.element_to_be_clickable((By.XPATH, \"//*[@id=':0']/div/div[2]/div[1]/div[1]/div/div[1]/div[1]/div/div[1]/div[2]/div[1]/div[3]/div\")))\n",
    "        except TimeoutException:\n",
    "            return None\n",
    "\n",
    "        # Наводим на него\n",
    "        ActionChains(driver).move_to_element(hover_element).perform()\n",
    "        # И теперь он подгрузился в html\n",
    "\n",
    "        # выгружаем в html. Потом кидаешь это в суп и разбираешь\n",
    "        html = driver.page_source\n",
    "        soup = bs(html, 'html.parser')\n",
    "\n",
    "        sert = soup.find(\"div\", {'class': 'zentexttip-text'})\n",
    "        return sert.text\n",
    "   \n",
    "    except NoSuchElementException as e:\n",
    "        # Handle the exception (optional)\n",
    "        print(f\"Error: {e}. Skipping element and continuing...\")\n",
    "        return None"
   ]
  },
  {
   "cell_type": "code",
   "execution_count": 80,
   "id": "94e7e64c",
   "metadata": {},
   "outputs": [
    {
     "data": {
      "text/plain": [
       "'Сертификат 78/АА-004/029-1/2022. По данным из Федерального перечня туристских объектов.'"
      ]
     },
     "execution_count": 80,
     "metadata": {},
     "output_type": "execute_result"
    }
   ],
   "source": [
    "Sertificate(df['URL'][0])"
   ]
  },
  {
   "cell_type": "code",
   "execution_count": null,
   "id": "6ae7383b",
   "metadata": {},
   "outputs": [],
   "source": [
    "\n",
    "#проверка функции\n",
    "Sertificate(url)\n",
    "\n",
    "\n",
    "df2 = pd.DataFrame()\n",
    "# Define column names\n",
    "headers = ['URL', 'Sertificate']\n",
    "# Create an empty DataFrame with headers\n",
    "df2 = pd.DataFrame(columns=headers)\n",
    "df2\n",
    "\n",
    "\n",
    "counter=0\n",
    "#цикл для заполнения пустого датафрейма df2 значениями о наличии или отсутствии на странице сертификата\n",
    "for i, url in enumerate(df['URL']):\n",
    "   \n",
    "    df2.loc[i, 'URL'] = df.loc[i, \"URL\"]\n",
    "    df2.loc[i, 'Sertificate'] = Sertificate(df.loc[i, \"URL\"])\n",
    "   \n",
    "    counter += 1\n",
    "    if counter >= 5:\n",
    "        break\n",
    "\n",
    "df2"
   ]
  }
 ],
 "metadata": {
  "kernelspec": {
   "display_name": "Python 3 (ipykernel)",
   "language": "python",
   "name": "python3"
  },
  "language_info": {
   "codemirror_mode": {
    "name": "ipython",
    "version": 3
   },
   "file_extension": ".py",
   "mimetype": "text/x-python",
   "name": "python",
   "nbconvert_exporter": "python",
   "pygments_lexer": "ipython3",
   "version": "3.9.2"
  }
 },
 "nbformat": 4,
 "nbformat_minor": 5
}
